{
 "cells": [
  {
   "cell_type": "code",
   "execution_count": 1,
   "metadata": {},
   "outputs": [],
   "source": [
    "import torch\n",
    "import torch.nn as nn\n",
    "from torch.utils.data import DataLoader\n",
    "from unityagents import UnityEnvironment\n",
    "import numpy as np\n",
    "import matplotlib.pyplot as plt\n",
    "from models import ACNetwork\n",
    "\n",
    "torch.manual_seed(0)\n",
    "#device = torch.device(\"cuda:0\" if torch.cuda.is_available() else \"cpu\")\n",
    "device =\"cpu\""
   ]
  },
  {
   "cell_type": "markdown",
   "metadata": {},
   "source": [
    "## Create an actor-critic model\n",
    "uses 33 inputs, 4 outputs and and 64 units per hidden layer"
   ]
  },
  {
   "cell_type": "code",
   "execution_count": 2,
   "metadata": {},
   "outputs": [],
   "source": [
    "# Create model\n",
    "network = ACNetwork(33,4,64).double().to(device)\n",
    "\n",
    "# uncomment to train with pre-trained model\n",
    "#network.load_state_dict(torch.load(\"savedata/ppo_trained.save\"))\n",
    "#network.train();"
   ]
  },
  {
   "cell_type": "markdown",
   "metadata": {},
   "source": [
    "## Load Unity environment and get properties"
   ]
  },
  {
   "cell_type": "code",
   "execution_count": 3,
   "metadata": {},
   "outputs": [
    {
     "name": "stderr",
     "output_type": "stream",
     "text": [
      "INFO:unityagents:\n",
      "'Academy' started successfully!\n",
      "Unity Academy name: Academy\n",
      "        Number of Brains: 1\n",
      "        Number of External Brains : 1\n",
      "        Lesson number : 0\n",
      "        Reset Parameters :\n",
      "\t\tgoal_speed -> 1.0\n",
      "\t\tgoal_size -> 5.0\n",
      "Unity brain name: ReacherBrain\n",
      "        Number of Visual Observations (per agent): 0\n",
      "        Vector Observation space type: continuous\n",
      "        Vector Observation space size (per agent): 33\n",
      "        Number of stacked Vector Observation: 1\n",
      "        Vector Action space type: continuous\n",
      "        Vector Action space size (per agent): 4\n",
      "        Vector Action descriptions: , , , \n"
     ]
    }
   ],
   "source": [
    "env = UnityEnvironment(file_name='Reacher_Windows_x86_64/Reacher', no_graphics=True)\n",
    "\n",
    "# get env info\n",
    "brain_name = env.brain_names[0]\n",
    "brain = env.brains[brain_name]\n",
    "env_info = env.reset(train_mode=True)[brain_name] \n",
    "num_agents = len(env_info.agents)"
   ]
  },
  {
   "cell_type": "markdown",
   "metadata": {},
   "source": [
    "## Train a PPO agent"
   ]
  },
  {
   "cell_type": "code",
   "execution_count": 4,
   "metadata": {
    "scrolled": true
   },
   "outputs": [
    {
     "name": "stdout",
     "output_type": "stream",
     "text": [
      "Episode 10: \t Avg reward per agent: 2.841000 \t Avg over last 100 episodes: 1.403950\n",
      "Episode 20: \t Avg reward per agent: 5.570500 \t Avg over last 100 episodes: 3.020025\n",
      "Episode 30: \t Avg reward per agent: 9.283000 \t Avg over last 100 episodes: 4.666433\n",
      "Episode 40: \t Avg reward per agent: 12.519500 \t Avg over last 100 episodes: 6.255637\n",
      "Episode 50: \t Avg reward per agent: 17.237500 \t Avg over last 100 episodes: 8.045560\n",
      "Episode 60: \t Avg reward per agent: 22.221000 \t Avg over last 100 episodes: 10.145500\n",
      "Episode 70: \t Avg reward per agent: 23.873999 \t Avg over last 100 episodes: 12.150764\n",
      "Episode 80: \t Avg reward per agent: 26.830499 \t Avg over last 100 episodes: 13.920381\n",
      "Episode 90: \t Avg reward per agent: 28.550999 \t Avg over last 100 episodes: 15.400216\n",
      "Episode 100: \t Avg reward per agent: 26.886999 \t Avg over last 100 episodes: 16.693310\n",
      "Episode 110: \t Avg reward per agent: 33.148499 \t Avg over last 100 episodes: 19.434490\n",
      "Episode 120: \t Avg reward per agent: 28.964999 \t Avg over last 100 episodes: 21.991010\n",
      "Episode 130: \t Avg reward per agent: 34.437499 \t Avg over last 100 episodes: 24.453124\n",
      "Episode 140: \t Avg reward per agent: 35.103999 \t Avg over last 100 episodes: 26.794344\n",
      "Episode 150: \t Avg reward per agent: 37.288999 \t Avg over last 100 episodes: 28.960924\n",
      "Episode 156: \t Avg reward per agent: 41.434999 \t Avg over last 100 episodes: 30.114529\n",
      "\n",
      "Environment solved. Saved network to savedata folder.\n"
     ]
    }
   ],
   "source": [
    "# PPO parameters\n",
    "ratio_clip = 0.2\n",
    "max_grad_norm = 0.5\n",
    "tmax = 300\n",
    "max_episodes = 800\n",
    "ppo_epochs = 5\n",
    "batchsize = 500\n",
    "discount = 0.98\n",
    "optimizer = torch.optim.Adam(network.parameters(), 3e-4, eps=1e-5)\n",
    "\n",
    "print_every = 10\n",
    "\n",
    "# list to contain mean scores\n",
    "history = []\n",
    "\n",
    "for episode in range(1, max_episodes+1):\n",
    "    \n",
    "    # prepare environment\n",
    "    env_info = env.reset(train_mode=True)[brain_name] \n",
    "    states = env_info.vector_observations\n",
    "    scores = 0\n",
    "    episode_done = False\n",
    "    \n",
    "    while not episode_done:\n",
    "        rewards_list = []\n",
    "        states_list = []\n",
    "        actions_list = []\n",
    "        log_probs_list = []\n",
    "        values_list = []\n",
    "        \n",
    "        # collect trajectories\n",
    "        for i in range(tmax):\n",
    "            states = torch.tensor(states).to(device)\n",
    "            actions, log_probs, values = network.forward(states)\n",
    "            env_info = env.step(actions.cpu().clamp(-1,1).numpy())[brain_name]\n",
    "            new_states = env_info.vector_observations\n",
    "            rewards = env_info.rewards\n",
    "            dones = env_info.local_done\n",
    "            scores += np.mean(rewards)\n",
    "            \n",
    "            if np.any(dones):\n",
    "                # ends episode if any agent reaches terminal state\n",
    "                episode_done = True\n",
    "\n",
    "            rewards_list.append(rewards)\n",
    "            states_list.append(states)\n",
    "            actions_list.append(actions.cpu().detach().numpy())\n",
    "            log_probs_list.append(log_probs.cpu().detach().numpy())\n",
    "            values_list.append(values.cpu().detach().numpy())\n",
    "\n",
    "            states = new_states        \n",
    "\n",
    "        rewards_list = np.asarray(rewards_list)\n",
    "        values_list = np.asarray(values_list).squeeze()\n",
    "        returns = values.cpu().detach().numpy().squeeze()\n",
    "        future_rewards_list = np.zeros(rewards_list.shape)\n",
    "        advantages_list = np.zeros(rewards_list.shape)\n",
    "        \n",
    "        # calculate advantages\n",
    "        for i in reversed(range(len(rewards_list))):\n",
    "            returns = rewards_list[i] + discount*returns\n",
    "            advantages = returns - values_list[i]\n",
    "            future_rewards_list[i] = returns\n",
    "            advantages_list[i] = advantages\n",
    "         \n",
    "        # normalize advantages\n",
    "        advantages_list = np.asarray(advantages_list)\n",
    "        advantages_list = (advantages_list - advantages_list.mean()) / (advantages_list.std() + 1e-5)\n",
    "        \n",
    "        # put everything in data format that can be fed to DataLoader object\n",
    "        rollout = []\n",
    "        for i_time in range(len(rewards_list)):\n",
    "            for i_agent in range(num_agents):\n",
    "\n",
    "                data = [torch.tensor(states_list[i_time][i_agent]).to(device),\n",
    "                        torch.tensor(actions_list[i_time][i_agent]).to(device),\n",
    "                        torch.tensor(log_probs_list[i_time][i_agent]).to(device),\n",
    "                        torch.tensor(future_rewards_list[i_time][i_agent]).double().to(device),\n",
    "                        torch.tensor([advantages_list[i_time][i_agent]]).double().to(device) ]\n",
    "                rollout.append( data )\n",
    "    \n",
    "        # prevent training on tiny trajectories\n",
    "        if len(rollout) < batchsize*2:\n",
    "            continue\n",
    "        \n",
    "        # object to load data batch-wise\n",
    "        dataloader = DataLoader(rollout, batch_size=batchsize,\n",
    "                            shuffle=True, num_workers=0)  \n",
    "        \n",
    "        # train using ppo for several epochs\n",
    "        for ppo_epoch in range(ppo_epochs):\n",
    "            for minibatch in dataloader:\n",
    "                # load training batch\n",
    "                sample_states, sample_actions, old_log_probs, sample_returns, sample_advantages = minibatch\n",
    "                \n",
    "                # get log_probs for current network state\n",
    "                actions, log_probs, values = network.forward(sample_states, sample_actions)                \n",
    "                \n",
    "                # compute r and clipped surrogate function for action loss\n",
    "                ratio = torch.exp(log_probs - old_log_probs)\n",
    "                obj = ratio * sample_advantages\n",
    "                obj_clipped = ratio.clamp(1.0 - ratio_clip, 1.0 + ratio_clip) * sample_advantages\n",
    "                action_loss = -torch.min(obj, obj_clipped).mean()\n",
    "                \n",
    "                # copmpute value loss using MSE\n",
    "                value_loss = 0.5 * (sample_returns-values).pow(2).mean()\n",
    "                \n",
    "                optimizer.zero_grad()\n",
    "                (action_loss + value_loss).backward()\n",
    "                \n",
    "                # clip gradients and perform optimization\n",
    "                nn.utils.clip_grad_norm_(network.parameters(), max_grad_norm)\n",
    "                optimizer.step()                \n",
    "                \n",
    "    history.append(scores)\n",
    "    mean_reward = np.mean(history[-100:])\n",
    "    if episode % print_every == 0 or mean_reward > 30:\n",
    "        print(\"\\rEpisode %d: \\t Avg reward per agent: %f \\t Avg over last 100 episodes: %f\" % (episode, scores, mean_reward))\n",
    "        torch.save(network.state_dict(), \"savedata/ppo_ep%d.save\" % episode)\n",
    "    else:\n",
    "        print(\"\\rEpisode %d: \\t Avg reward per agent: %f \\t Avg over last 100 episodes: %f\" % (episode, scores, mean_reward), end=\"\")\n",
    "    \n",
    "    if mean_reward > 30:\n",
    "        # solve condition: average score +30 over 100 episodes\n",
    "        torch.save(network.state_dict(), \"savedata/ppo_trained.save\")\n",
    "        print(\"\\nEnvironment solved. Saved network to savedata folder.\")\n",
    "        break"
   ]
  },
  {
   "cell_type": "markdown",
   "metadata": {},
   "source": [
    "## Close environment"
   ]
  },
  {
   "cell_type": "code",
   "execution_count": 5,
   "metadata": {},
   "outputs": [],
   "source": [
    "env.close()"
   ]
  },
  {
   "cell_type": "markdown",
   "metadata": {},
   "source": [
    "## Plot scores"
   ]
  },
  {
   "cell_type": "code",
   "execution_count": 6,
   "metadata": {},
   "outputs": [
    {
     "data": {
      "text/plain": [
       "[<matplotlib.lines.Line2D at 0x2a9aa50d550>]"
      ]
     },
     "execution_count": 6,
     "metadata": {},
     "output_type": "execute_result"
    },
    {
     "data": {
      "image/png": "[encoded data removed]",
      "text/plain": [
       "<Figure size 432x288 with 1 Axes>"
      ]
     },
     "metadata": {
      "needs_background": "light"
     },
     "output_type": "display_data"
    }
   ],
   "source": [
    "plt.plot(history)"
   ]
  },
  {
   "cell_type": "code",
   "execution_count": null,
   "metadata": {},
   "outputs": [],
   "source": []
  }
 ],
 "metadata": {
  "kernelspec": {
   "display_name": "Python 3.6 (unityml)",
   "language": "python",
   "name": "unityml"
  },
  "language_info": {
   "codemirror_mode": {
    "name": "ipython",
    "version": 3
   },
   "file_extension": ".py",
   "mimetype": "text/x-python",
   "name": "python",
   "nbconvert_exporter": "python",
   "pygments_lexer": "ipython3",
   "version": "3.6.6"
  }
 },
 "nbformat": 4,
 "nbformat_minor": 2
}
